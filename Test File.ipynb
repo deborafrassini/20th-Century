{
 "cells": [
  {
   "cell_type": "markdown",
   "id": "9a9e1ef0-e69a-4d5b-91bb-86ca1e1f1c1a",
   "metadata": {},
   "source": [
    "## This is a Test File"
   ]
  },
  {
   "cell_type": "code",
   "execution_count": 1,
   "id": "4d352e9a-693c-4682-a81e-bf38823e52c3",
   "metadata": {
    "tags": []
   },
   "outputs": [],
   "source": [
    "a = 2"
   ]
  },
  {
   "cell_type": "code",
   "execution_count": 3,
   "id": "6b0050f9-1d8e-4188-9712-4ef5b15a389d",
   "metadata": {
    "tags": []
   },
   "outputs": [],
   "source": [
    "b = 3"
   ]
  },
  {
   "cell_type": "code",
   "execution_count": 5,
   "id": "d06e4bf5-5f98-4569-9a77-3b1cb170f4ab",
   "metadata": {
    "tags": []
   },
   "outputs": [],
   "source": [
    "c = 5"
   ]
  },
  {
   "cell_type": "code",
   "execution_count": 7,
   "id": "75bcf9a9-e3ac-44b8-9e6c-23330363de15",
   "metadata": {
    "tags": []
   },
   "outputs": [
    {
     "data": {
      "text/plain": [
       "5"
      ]
     },
     "execution_count": 7,
     "metadata": {},
     "output_type": "execute_result"
    }
   ],
   "source": [
    "a + b"
   ]
  },
  {
   "cell_type": "code",
   "execution_count": 9,
   "id": "2aba0718-bdb2-4cd0-84f6-dc844cc91e52",
   "metadata": {
    "tags": []
   },
   "outputs": [],
   "source": [
    "d = a + c"
   ]
  },
  {
   "cell_type": "code",
   "execution_count": 13,
   "id": "36506fa1-8625-467b-a1df-3b6314c4eda8",
   "metadata": {
    "tags": []
   },
   "outputs": [
    {
     "data": {
      "text/plain": [
       "3.5714285714285716"
      ]
     },
     "execution_count": 13,
     "metadata": {},
     "output_type": "execute_result"
    }
   ],
   "source": [
    "(( a + b ) * c) / d"
   ]
  },
  {
   "cell_type": "code",
   "execution_count": null,
   "id": "c193cedf-772b-4a8b-bc7a-66b711f2eb60",
   "metadata": {},
   "outputs": [],
   "source": []
  }
 ],
 "metadata": {
  "kernelspec": {
   "display_name": "Python 3 (ipykernel)",
   "language": "python",
   "name": "python3"
  },
  "language_info": {
   "codemirror_mode": {
    "name": "ipython",
    "version": 3
   },
   "file_extension": ".py",
   "mimetype": "text/x-python",
   "name": "python",
   "nbconvert_exporter": "python",
   "pygments_lexer": "ipython3",
   "version": "3.11.7"
  }
 },
 "nbformat": 4,
 "nbformat_minor": 5
}
